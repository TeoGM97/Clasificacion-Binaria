{
  "nbformat": 4,
  "nbformat_minor": 0,
  "metadata": {
    "colab": {
      "provenance": [],
      "authorship_tag": "ABX9TyMX8eQrf1cKiIVV017P9l7v",
      "include_colab_link": true
    },
    "kernelspec": {
      "name": "python3",
      "display_name": "Python 3"
    },
    "language_info": {
      "name": "python"
    },
    "accelerator": "GPU",
    "gpuClass": "standard"
  },
  "cells": [
    {
      "cell_type": "markdown",
      "metadata": {
        "id": "view-in-github",
        "colab_type": "text"
      },
      "source": [
        "<a href=\"https://colab.research.google.com/github/TeoGM97/Clasificacion-Binaria/blob/master/Clasificacion_binaria.ipynb\" target=\"_parent\"><img src=\"https://colab.research.google.com/assets/colab-badge.svg\" alt=\"Open In Colab\"/></a>"
      ]
    },
    {
      "cell_type": "code",
      "execution_count": null,
      "metadata": {
        "id": "SvcV-3REfJNa"
      },
      "outputs": [],
      "source": [
        "import numpy as np\n",
        "from keras.datasets import imdb\n",
        "from keras import models, layers, optimizers"
      ]
    },
    {
      "cell_type": "markdown",
      "source": [
        "Vamos a descargar los datos del dataset de keras."
      ],
      "metadata": {
        "id": "58BSGrXFfxeG"
      }
    },
    {
      "cell_type": "code",
      "source": [
        "(train_data, train_labels), (test_data, test_labels) = imdb.load_data(num_words=10000)"
      ],
      "metadata": {
        "colab": {
          "base_uri": "https://localhost:8080/"
        },
        "id": "SHILFjp0fg1S",
        "outputId": "cb7d73c0-9f63-494b-fd83-9c07021fc4de"
      },
      "execution_count": null,
      "outputs": [
        {
          "output_type": "stream",
          "name": "stdout",
          "text": [
            "Downloading data from https://storage.googleapis.com/tensorflow/tf-keras-datasets/imdb.npz\n",
            "17464789/17464789 [==============================] - 1s 0us/step\n"
          ]
        }
      ]
    },
    {
      "cell_type": "markdown",
      "source": [
        "Keras nos facilita la conversion de las palabras a numeros, como se puede ver a continuacion."
      ],
      "metadata": {
        "id": "pcguIJIdgsvx"
      }
    },
    {
      "cell_type": "code",
      "source": [
        "train_data[0]"
      ],
      "metadata": {
        "colab": {
          "base_uri": "https://localhost:8080/"
        },
        "id": "azWb-H11gLZ5",
        "outputId": "ee4c6338-a38d-4d06-ea9e-1bb94f9cab8c"
      },
      "execution_count": null,
      "outputs": [
        {
          "output_type": "execute_result",
          "data": {
            "text/plain": [
              "[1,\n",
              " 14,\n",
              " 22,\n",
              " 16,\n",
              " 43,\n",
              " 530,\n",
              " 973,\n",
              " 1622,\n",
              " 1385,\n",
              " 65,\n",
              " 458,\n",
              " 4468,\n",
              " 66,\n",
              " 3941,\n",
              " 4,\n",
              " 173,\n",
              " 36,\n",
              " 256,\n",
              " 5,\n",
              " 25,\n",
              " 100,\n",
              " 43,\n",
              " 838,\n",
              " 112,\n",
              " 50,\n",
              " 670,\n",
              " 2,\n",
              " 9,\n",
              " 35,\n",
              " 480,\n",
              " 284,\n",
              " 5,\n",
              " 150,\n",
              " 4,\n",
              " 172,\n",
              " 112,\n",
              " 167,\n",
              " 2,\n",
              " 336,\n",
              " 385,\n",
              " 39,\n",
              " 4,\n",
              " 172,\n",
              " 4536,\n",
              " 1111,\n",
              " 17,\n",
              " 546,\n",
              " 38,\n",
              " 13,\n",
              " 447,\n",
              " 4,\n",
              " 192,\n",
              " 50,\n",
              " 16,\n",
              " 6,\n",
              " 147,\n",
              " 2025,\n",
              " 19,\n",
              " 14,\n",
              " 22,\n",
              " 4,\n",
              " 1920,\n",
              " 4613,\n",
              " 469,\n",
              " 4,\n",
              " 22,\n",
              " 71,\n",
              " 87,\n",
              " 12,\n",
              " 16,\n",
              " 43,\n",
              " 530,\n",
              " 38,\n",
              " 76,\n",
              " 15,\n",
              " 13,\n",
              " 1247,\n",
              " 4,\n",
              " 22,\n",
              " 17,\n",
              " 515,\n",
              " 17,\n",
              " 12,\n",
              " 16,\n",
              " 626,\n",
              " 18,\n",
              " 2,\n",
              " 5,\n",
              " 62,\n",
              " 386,\n",
              " 12,\n",
              " 8,\n",
              " 316,\n",
              " 8,\n",
              " 106,\n",
              " 5,\n",
              " 4,\n",
              " 2223,\n",
              " 5244,\n",
              " 16,\n",
              " 480,\n",
              " 66,\n",
              " 3785,\n",
              " 33,\n",
              " 4,\n",
              " 130,\n",
              " 12,\n",
              " 16,\n",
              " 38,\n",
              " 619,\n",
              " 5,\n",
              " 25,\n",
              " 124,\n",
              " 51,\n",
              " 36,\n",
              " 135,\n",
              " 48,\n",
              " 25,\n",
              " 1415,\n",
              " 33,\n",
              " 6,\n",
              " 22,\n",
              " 12,\n",
              " 215,\n",
              " 28,\n",
              " 77,\n",
              " 52,\n",
              " 5,\n",
              " 14,\n",
              " 407,\n",
              " 16,\n",
              " 82,\n",
              " 2,\n",
              " 8,\n",
              " 4,\n",
              " 107,\n",
              " 117,\n",
              " 5952,\n",
              " 15,\n",
              " 256,\n",
              " 4,\n",
              " 2,\n",
              " 7,\n",
              " 3766,\n",
              " 5,\n",
              " 723,\n",
              " 36,\n",
              " 71,\n",
              " 43,\n",
              " 530,\n",
              " 476,\n",
              " 26,\n",
              " 400,\n",
              " 317,\n",
              " 46,\n",
              " 7,\n",
              " 4,\n",
              " 2,\n",
              " 1029,\n",
              " 13,\n",
              " 104,\n",
              " 88,\n",
              " 4,\n",
              " 381,\n",
              " 15,\n",
              " 297,\n",
              " 98,\n",
              " 32,\n",
              " 2071,\n",
              " 56,\n",
              " 26,\n",
              " 141,\n",
              " 6,\n",
              " 194,\n",
              " 7486,\n",
              " 18,\n",
              " 4,\n",
              " 226,\n",
              " 22,\n",
              " 21,\n",
              " 134,\n",
              " 476,\n",
              " 26,\n",
              " 480,\n",
              " 5,\n",
              " 144,\n",
              " 30,\n",
              " 5535,\n",
              " 18,\n",
              " 51,\n",
              " 36,\n",
              " 28,\n",
              " 224,\n",
              " 92,\n",
              " 25,\n",
              " 104,\n",
              " 4,\n",
              " 226,\n",
              " 65,\n",
              " 16,\n",
              " 38,\n",
              " 1334,\n",
              " 88,\n",
              " 12,\n",
              " 16,\n",
              " 283,\n",
              " 5,\n",
              " 16,\n",
              " 4472,\n",
              " 113,\n",
              " 103,\n",
              " 32,\n",
              " 15,\n",
              " 16,\n",
              " 5345,\n",
              " 19,\n",
              " 178,\n",
              " 32]"
            ]
          },
          "metadata": {},
          "execution_count": 5
        }
      ]
    },
    {
      "cell_type": "code",
      "source": [
        "train_labels[0]"
      ],
      "metadata": {
        "colab": {
          "base_uri": "https://localhost:8080/"
        },
        "id": "QOtQMR6zgY_i",
        "outputId": "5c944180-f2a7-4c58-d00f-88c6ecf71854"
      },
      "execution_count": null,
      "outputs": [
        {
          "output_type": "execute_result",
          "data": {
            "text/plain": [
              "1"
            ]
          },
          "metadata": {},
          "execution_count": 6
        }
      ]
    },
    {
      "cell_type": "markdown",
      "source": [
        "Para ver las palabras con su numero:"
      ],
      "metadata": {
        "id": "LDvRverFg-tB"
      }
    },
    {
      "cell_type": "code",
      "source": [
        "word_index = imdb.get_word_index()\n"
      ],
      "metadata": {
        "colab": {
          "base_uri": "https://localhost:8080/"
        },
        "id": "5kswPSZaggAk",
        "outputId": "b821320d-2829-4c30-d54c-85a2f318a2c0"
      },
      "execution_count": null,
      "outputs": [
        {
          "output_type": "stream",
          "name": "stdout",
          "text": [
            "Downloading data from https://storage.googleapis.com/tensorflow/tf-keras-datasets/imdb_word_index.json\n",
            "1641221/1641221 [==============================] - 0s 0us/step\n"
          ]
        }
      ]
    },
    {
      "cell_type": "markdown",
      "source": [
        "Estructura: palabra: numero.\n",
        "Queremos cambiar el orden de eso para poder trabajarlo mejor. Lo haremos volviendo word index en un diccionario value key. Iterando para key y value cuando key y value esten en word index."
      ],
      "metadata": {
        "id": "fZaVzIAzhDJw"
      }
    },
    {
      "cell_type": "code",
      "source": [
        "word_index = dict([(value,key) for (key,value) in word_index.items()])"
      ],
      "metadata": {
        "id": "4Nd-L1YbhfXX"
      },
      "execution_count": null,
      "outputs": []
    },
    {
      "cell_type": "code",
      "source": [
        "word_index"
      ],
      "metadata": {
        "id": "j-UT3vwviIEJ"
      },
      "execution_count": null,
      "outputs": []
    },
    {
      "cell_type": "markdown",
      "source": [
        "A continuacion, obtendremos las palabras que representan los numeros. La variable puede ser cualquiera. La llamaremos _\n",
        "Los primeros 3 indices son palabras reservadas."
      ],
      "metadata": {
        "id": "w-9UVdlzixqn"
      }
    },
    {
      "cell_type": "code",
      "source": [
        "for _ in train_data[0]:\n",
        "  print(word_index.get (_ -3))"
      ],
      "metadata": {
        "id": "Ypx0rYYRiMJg"
      },
      "execution_count": null,
      "outputs": []
    },
    {
      "cell_type": "markdown",
      "source": [
        "Vamos a crear el set de datos. Pero antes debemos tener en cuenta que Keras solo recibe tensores. Solo se maneja con numeros de coma flotante. \n",
        "Los datos en train_data no tienen una estructura, son simplemente numeros equivalentes a palabras, uno tras otro. Lo que vamos a hacer es vectorizar:"
      ],
      "metadata": {
        "id": "XtGOuJbFjNCF"
      }
    },
    {
      "cell_type": "code",
      "source": [
        "def vectorizar(sequences, dim=10000):\n",
        "  results = np.zeros((len(sequences), dim))\n",
        "  for i, sequences in enumerate(sequences):\n",
        "    results[i, sequences]=1\n",
        "  return results"
      ],
      "metadata": {
        "id": "NVUnGfWVj9On"
      },
      "execution_count": null,
      "outputs": []
    },
    {
      "cell_type": "code",
      "source": [
        "x_train = vectorizar(train_data)\n",
        "x_test = vectorizar(test_data)"
      ],
      "metadata": {
        "id": "mwxYv6ZQlAoT"
      },
      "execution_count": null,
      "outputs": []
    },
    {
      "cell_type": "markdown",
      "source": [
        "Despues de lo anterior. Tendremos una forma de 25k ejemplos en una estructura de 10k que son las palabras. Solo vendra 1 cuando la palabra existe.\n",
        "Ahora volveremos a y a numero flotante"
      ],
      "metadata": {
        "id": "VjrIZKsimfVZ"
      }
    },
    {
      "cell_type": "code",
      "source": [
        "y_train = np.asarray(train_labels).astype('float32')\n",
        "y_test = np.asarray(train_labels).astype('float32')"
      ],
      "metadata": {
        "id": "pNrt6QOsmcsu"
      },
      "execution_count": null,
      "outputs": []
    },
    {
      "cell_type": "markdown",
      "source": [
        "Ahora nos queda hacer el modelo:\n",
        "Vamos a usar la funcion de perdida binary cross entrophy. Funcion recomendada para clasificacion binaria"
      ],
      "metadata": {
        "id": "Z_Bqnc68nHvK"
      }
    },
    {
      "cell_type": "code",
      "source": [
        "model = models.Sequential()\n",
        "model.add(layers.Dense(16 , activation = 'relu', input_shape = (10000, ))) #16 neuronas. Relu. Entrada de 10k porque son 10k los ejemplos\n",
        "model.add(layers.Dense(16 , activation = 'relu'))\n",
        "model.add(layers.Dense(1 , activation = 'sigmoid')) #1 sola neurona que diga si es 0 o 1"
      ],
      "metadata": {
        "id": "HepQIy5tjZj6"
      },
      "execution_count": null,
      "outputs": []
    },
    {
      "cell_type": "code",
      "source": [
        "model.compile(optimizer = 'rmsprop',\n",
        "              loss = 'binary_crossentropy',\n",
        "              metrics = 'accuracy')"
      ],
      "metadata": {
        "id": "mzW_2hxpkX4e"
      },
      "execution_count": null,
      "outputs": []
    },
    {
      "cell_type": "markdown",
      "source": [
        " A continuacion sigue el entrenamiento. Esta vez tendramos x_val que es la x de validacion."
      ],
      "metadata": {
        "id": "0waK2sNclCk4"
      }
    },
    {
      "cell_type": "code",
      "source": [
        "x_val = x_train[:1000]\n",
        "partial_x_train = x_train[10000:]\n",
        "\n",
        "y_val = y_train[:1000]\n",
        "partial_y_train = y_train[10000:]"
      ],
      "metadata": {
        "id": "UU3D7f--k7JZ"
      },
      "execution_count": null,
      "outputs": []
    },
    {
      "cell_type": "markdown",
      "source": [
        "Entrenamiento:"
      ],
      "metadata": {
        "id": "Y7RHXm0clnyx"
      }
    },
    {
      "cell_type": "code",
      "source": [
        "history = model.fit(partial_x_train, partial_y_train,\n",
        "                    epochs=20,\n",
        "                    batch_size=512,\n",
        "                    validation_data=(x_val, y_val))"
      ],
      "metadata": {
        "id": "jij9-3YElp3F"
      },
      "execution_count": null,
      "outputs": []
    },
    {
      "cell_type": "markdown",
      "source": [
        "Vamos a validar los resultados"
      ],
      "metadata": {
        "id": "XbF7CyZrmxni"
      }
    },
    {
      "cell_type": "code",
      "source": [
        "import matplotlib.pyplot as plt\n",
        "\n",
        "history_dictr = history.history\n",
        "loss_values = history_dictr['loss']\n",
        "val_loss_values = history_dictr['val_loss']\n",
        "\n",
        "epoch = range(1,len(loss_values) + 1)\n",
        "plt.plot(epoch, loss_values, 'o', label = 'trainig')\n",
        "plt.plot(epoch, val_loss_values, '--', label = 'trainig')\n",
        "plt.legend()\n",
        "plt.show()"
      ],
      "metadata": {
        "colab": {
          "base_uri": "https://localhost:8080/",
          "height": 265
        },
        "id": "9e2_Tuaxm0zf",
        "outputId": "6ce8f2cd-cc10-4c6a-c3b4-c2ceec3da5a8"
      },
      "execution_count": null,
      "outputs": [
        {
          "output_type": "display_data",
          "data": {
            "text/plain": [
              "<Figure size 432x288 with 1 Axes>"
            ],
            "image/png": "[encoded data removed]"
          },
          "metadata": {
            "needs_background": "light"
          }
        }
      ]
    },
    {
      "cell_type": "code",
      "source": [
        "model.evaluate(x_test, y_test)"
      ],
      "metadata": {
        "colab": {
          "base_uri": "https://localhost:8080/"
        },
        "id": "TdrfFW8poNMB",
        "outputId": "8ec79e5d-fb75-46b9-f591-7e1c9629b7af"
      },
      "execution_count": null,
      "outputs": [
        {
          "output_type": "stream",
          "name": "stdout",
          "text": [
            "782/782 [==============================] - 2s 3ms/step - loss: 4.8660 - accuracy: 0.4984\n"
          ]
        },
        {
          "output_type": "execute_result",
          "data": {
            "text/plain": [
              "[4.865965366363525, 0.4983600080013275]"
            ]
          },
          "metadata": {},
          "execution_count": 19
        }
      ]
    },
    {
      "cell_type": "markdown",
      "source": [
        "El **overfiting** es un problema comun en la redes neuronales y se trata basicamente que el modelo se aprendió los datos.\n",
        "\n",
        "Hay 3 principales maneras para combatir esto: Un modelo mas pequeño, regularizacion y capas Dropout.\n",
        "\n",
        "La **regularización** se trata de que entre dos soluciones, la mas simple es la que debemos elegir.\n",
        "\n",
        "Para este caso queremos reducir la complejidad del modelo, reduciendo los pesos que arroja la red, para que sea mas facil de procesar y menos compleja.\n",
        "\n",
        "La regularizacion le da mas peso a la funcion de costo, para así castigue mas.\n",
        "Hay 2 tipos: L1 que funciona con los valores absolutos de los pesos de la neurona. Estos se suman a la funcion de costo, castigandola.\n",
        "La L2 los eleva al cuadrado.\n",
        "Ambos tienen un delta que va a ayudar con ese castigo. \n",
        "\n",
        "El **Dropout** es otra manera de combatir este overfing. Se trata de apagar ciertos valores o neuronas en cada iteracion de manera aleatoria. Asi cada neurona dependera menos de las anteriores y evitaremos la \"conspiracion\" y asi el overfiting\n"
      ],
      "metadata": {
        "id": "SPtog0zjtZNX"
      }
    },
    {
      "cell_type": "markdown",
      "source": [
        "Modelo menos complejo"
      ],
      "metadata": {
        "id": "WCkz35RIwD4D"
      }
    },
    {
      "cell_type": "code",
      "source": [
        "model2 = models.Sequential()\n",
        "model2.add(layers.Dense(4 , activation = 'relu', input_shape = (10000, )))\n",
        "model2.add(layers.Dense(4 , activation = 'relu'))\n",
        "model2.add(layers.Dense(1 , activation = 'sigmoid'))\n",
        "\n",
        "model2.compile(optimizer = 'rmsprop',\n",
        "              loss = 'binary_crossentropy',\n",
        "              metrics = 'accuracy')\n",
        "\n",
        "history2 = model2.fit(partial_x_train, partial_y_train,\n",
        "                    epochs=20,\n",
        "                    batch_size=512,\n",
        "                    validation_data=(x_val, y_val))"
      ],
      "metadata": {
        "id": "170WNXtsu8WM"
      },
      "execution_count": null,
      "outputs": []
    },
    {
      "cell_type": "code",
      "source": [
        "history_dictr = history.history\n",
        "loss_values = history_dictr['loss']\n",
        "val_loss_values = history_dictr['val_loss']\n",
        "val_loss_values_2 = history2.history['val_loss']\n",
        "\n",
        "epoch = range(1,len(loss_values) + 1)\n",
        "plt.plot(epoch, val_loss_values_2, 'o', label = 'smaller')\n",
        "plt.plot(epoch, val_loss_values, '--', label = 'bigger')\n",
        "plt.legend()\n",
        "plt.show()"
      ],
      "metadata": {
        "colab": {
          "base_uri": "https://localhost:8080/",
          "height": 265
        },
        "id": "c6mZSWbsw33o",
        "outputId": "6b2849de-cb3f-4b90-e53b-68b665c7bc8e"
      },
      "execution_count": null,
      "outputs": [
        {
          "output_type": "display_data",
          "data": {
            "text/plain": [
              "<Figure size 432x288 with 1 Axes>"
            ],
            "image/png": "[encoded data removed]"
          },
          "metadata": {
            "needs_background": "light"
          }
        }
      ]
    },
    {
      "cell_type": "markdown",
      "source": [
        "Regularizacion"
      ],
      "metadata": {
        "id": "iUkJiOzEyQqO"
      }
    },
    {
      "cell_type": "code",
      "source": [
        "from keras import regularizers"
      ],
      "metadata": {
        "id": "T_YKJO6xydoL"
      },
      "execution_count": null,
      "outputs": []
    },
    {
      "cell_type": "code",
      "source": [
        "model3 = models.Sequential()\n",
        "model3.add(layers.Dense(16 , activation = 'relu', input_shape = (10000, ), \n",
        "                        kernel_regularizer = regularizers.l2(0.001)))\n",
        "model3.add(layers.Dense(16 , activation = 'relu', kernel_regularizer = regularizers.l2(0.001)))\n",
        "model3.add(layers.Dense(1 , activation = 'sigmoid'))\n",
        "\n",
        "model3.compile(optimizer = 'rmsprop',\n",
        "              loss = 'binary_crossentropy',\n",
        "              metrics = 'accuracy')\n",
        "\n",
        "history3 = model3.fit(partial_x_train, partial_y_train,\n",
        "                    epochs=20,\n",
        "                    batch_size=512,\n",
        "                    validation_data=(x_val, y_val))"
      ],
      "metadata": {
        "id": "jhE2RYZ8yYrF"
      },
      "execution_count": null,
      "outputs": []
    },
    {
      "cell_type": "code",
      "source": [
        "history_dictr = history.history\n",
        "loss_values = history_dictr['loss']\n",
        "val_loss_values = history_dictr['val_loss']\n",
        "val_loss_values_3 = history3.history['val_loss']\n",
        "\n",
        "epoch = range(1,len(loss_values) + 1)\n",
        "plt.plot(epoch, val_loss_values_3, 'o', label = 'regularizacion')\n",
        "plt.plot(epoch, val_loss_values, '--', label = 'original')\n",
        "plt.legend()\n",
        "plt.show()"
      ],
      "metadata": {
        "colab": {
          "base_uri": "https://localhost:8080/",
          "height": 265
        },
        "id": "LlaQOdvrzmHc",
        "outputId": "30f36002-85e5-4d1a-a78a-e14a57ee4d2f"
      },
      "execution_count": null,
      "outputs": [
        {
          "output_type": "display_data",
          "data": {
            "text/plain": [
              "<Figure size 432x288 with 1 Axes>"
            ],
            "image/png": "[encoded data removed]"
          },
          "metadata": {
            "needs_background": "light"
          }
        }
      ]
    },
    {
      "cell_type": "markdown",
      "source": [
        "Dropout.\n",
        "\n",
        "Esta es una capa, no un modelo"
      ],
      "metadata": {
        "id": "50gez-Qd0h3O"
      }
    },
    {
      "cell_type": "code",
      "source": [
        "model4 = models.Sequential()\n",
        "model4.add(layers.Dense(4 , activation = 'relu', input_shape = (10000, )))\n",
        "model4.add(layers.Dropout(0.5))\n",
        "model4.add(layers.Dense(4 , activation = 'relu'))\n",
        "model4.add(layers.Dropout(0.5))\n",
        "model4.add(layers.Dense(1 , activation = 'sigmoid'))\n",
        "\n",
        "model4.compile(optimizer = 'rmsprop',\n",
        "              loss = 'binary_crossentropy',\n",
        "              metrics = 'accuracy')\n",
        "\n",
        "history4 = model4.fit(partial_x_train, partial_y_train,\n",
        "                    epochs=20,\n",
        "                    batch_size=512,\n",
        "                    validation_data=(x_val, y_val))"
      ],
      "metadata": {
        "id": "jbMMReqH0pfR"
      },
      "execution_count": null,
      "outputs": []
    },
    {
      "cell_type": "code",
      "source": [
        "history_dictr = history.history\n",
        "loss_values = history_dictr['loss']\n",
        "val_loss_values = history_dictr['val_loss']\n",
        "val_loss_values_4 = history4.history['val_loss']\n",
        "\n",
        "epoch = range(1,len(loss_values) + 1)\n",
        "plt.plot(epoch, val_loss_values_4, 'o', label = 'Dropout')\n",
        "plt.plot(epoch, val_loss_values, '--', label = 'original')\n",
        "plt.legend()\n",
        "plt.show()"
      ],
      "metadata": {
        "colab": {
          "base_uri": "https://localhost:8080/",
          "height": 265
        },
        "id": "Nfw7N7lL1DCE",
        "outputId": "004ae0c0-a8df-43a5-c548-2a08af522cd4"
      },
      "execution_count": null,
      "outputs": [
        {
          "output_type": "display_data",
          "data": {
            "text/plain": [
              "<Figure size 432x288 with 1 Axes>"
            ],
            "image/png": "[encoded data removed]"
          },
          "metadata": {
            "needs_background": "light"
          }
        }
      ]
    },
    {
      "cell_type": "code",
      "source": [],
      "metadata": {
        "id": "rfV7orN514dJ"
      },
      "execution_count": null,
      "outputs": []
    }
  ]
}